{
 "cells": [
  {
   "cell_type": "markdown",
   "metadata": {},
   "source": [
    "# Введение в высшую математику"
   ]
  },
  {
   "cell_type": "markdown",
   "metadata": {},
   "source": [
    "## Практические задания к уроку 3"
   ]
  },
  {
   "cell_type": "markdown",
   "metadata": {},
   "source": [
    "### 3. Задание (в программе или на листочке)\n",
    "На листе тетради «в линейку» (расстояние между линиями равно а) лежит игла (длиной b). Координаты нижней точки иглы (х,у), игла лежит под углом alfa. Пересекает ли игла линию или нет?"
   ]
  },
  {
   "cell_type": "code",
   "execution_count": 1,
   "metadata": {},
   "outputs": [],
   "source": [
    "import math"
   ]
  },
  {
   "cell_type": "markdown",
   "metadata": {},
   "source": [
    "Предположим:\n",
    "\n",
    "- линейки расположены так, что ось x совпадает с одной из линеек (\"нулевая\" линейка).\n",
    "- a, x, y - вещественные числа"
   ]
  },
  {
   "cell_type": "code",
   "execution_count": 2,
   "metadata": {},
   "outputs": [],
   "source": [
    "def solver(a, x, y, b, alpha):\n",
    "    if int((y + b * math.sin(math.radians(alpha))) / a) != int(y + b * math.sin(math.radians(alpha))):\n",
    "        return True\n",
    "    if abs(int((y + b * math.sin(math.radians(alpha))) / a) - int(y / a)) >= 1:\n",
    "        return True"
   ]
  },
  {
   "cell_type": "code",
   "execution_count": null,
   "metadata": {},
   "outputs": [
    {
     "name": "stdout",
     "output_type": "stream",
     "text": [
      "Lines spacing a = 1\n",
      "x = 7\n",
      "y = 0\n",
      "Needle length b = 2\n",
      "Needle tilt angle alpha = 60\n",
      "Yes, the needle crosses a line\n",
      "Lines spacing a = 1\n",
      "x = 7\n",
      "y = 0\n",
      "Needle length b = 2\n",
      "Needle tilt angle alpha = 25\n",
      "No, the needle doesn't cross a line\n"
     ]
    }
   ],
   "source": [
    "while True:\n",
    "    a = float(input(\"Lines spacing a = \"))\n",
    "    x = float(input(\"x = \"))\n",
    "    y = float(input(\"y = \"))\n",
    "    b = float(input(\"Needle length b = \"))\n",
    "    alpha = float(input(\"Needle tilt angle alpha = \"))\n",
    "    if solver(a, x, y, b, alpha):\n",
    "        print(\"Yes, the needle crosses a line\")\n",
    "    else:\n",
    "        print(\"No, the needle doesn't cross a line\")"
   ]
  },
  {
   "cell_type": "code",
   "execution_count": null,
   "metadata": {},
   "outputs": [],
   "source": []
  }
 ],
 "metadata": {
  "kernelspec": {
   "display_name": "Python 3",
   "language": "python",
   "name": "python3"
  },
  "language_info": {
   "codemirror_mode": {
    "name": "ipython",
    "version": 3
   },
   "file_extension": ".py",
   "mimetype": "text/x-python",
   "name": "python",
   "nbconvert_exporter": "python",
   "pygments_lexer": "ipython3",
   "version": "3.7.6"
  }
 },
 "nbformat": 4,
 "nbformat_minor": 4
}
